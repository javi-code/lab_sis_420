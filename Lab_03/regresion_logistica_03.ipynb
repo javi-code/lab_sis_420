{
  "nbformat": 4,
  "nbformat_minor": 0,
  "metadata": {
    "kernelspec": {
      "display_name": "Python 3",
      "language": "python",
      "name": "python3"
    },
    "language_info": {
      "codemirror_mode": {
        "name": "ipython",
        "version": 3
      },
      "file_extension": ".py",
      "mimetype": "text/x-python",
      "name": "python",
      "nbconvert_exporter": "python",
      "pygments_lexer": "ipython3",
      "version": "3.8.8"
    },
    "colab": {
      "provenance": []
    }
  },
  "cells": [
    {
      "cell_type": "code",
      "metadata": {
        "id": "UIILrG1ifDOM",
        "colab": {
          "base_uri": "https://localhost:8080/"
        },
        "outputId": "347b32ea-b751-40a7-ad12-e8a16e01c070"
      },
      "source": [
        "# se utiliza para el manejo de rutas y directorios.\n",
        "import os\n",
        "\n",
        "# Calculo cientifico y vectorial para python\n",
        "import numpy as np\n",
        "import pandas as pd\n",
        "from matplotlib import pyplot\n",
        "from datetime import datetime\n",
        "from sklearn.preprocessing import LabelEncoder\n",
        "# Librerias para graficar\n",
        "# Modulo de optimización de scipy\n",
        "from scipy import optimize\n",
        "\n",
        "# le dice a matplotlib que incruste gráficos en el cuaderno\n",
        "%matplotlib inline\n",
        "\n",
        "!ls\n",
        "%mkdir data\n",
        "!ls"
      ],
      "execution_count": 450,
      "outputs": [
        {
          "output_type": "stream",
          "name": "stdout",
          "text": [
            "data  drive  sample_data\n",
            "mkdir: cannot create directory ‘data’: File exists\n",
            "data  drive  sample_data\n"
          ]
        }
      ]
    },
    {
      "cell_type": "code",
      "source": [
        "from google.colab import drive\n",
        "drive.mount('/content/drive')"
      ],
      "metadata": {
        "colab": {
          "base_uri": "https://localhost:8080/"
        },
        "id": "FCSJcpOP3jK7",
        "outputId": "c0b7d758-b6d7-41f6-fcd0-7b2bcec50bdf"
      },
      "execution_count": 451,
      "outputs": [
        {
          "output_type": "stream",
          "name": "stdout",
          "text": [
            "Drive already mounted at /content/drive; to attempt to forcibly remount, call drive.mount(\"/content/drive\", force_remount=True).\n"
          ]
        }
      ]
    },
    {
      "cell_type": "code",
      "metadata": {
        "id": "uafc5vSkfL9X",
        "colab": {
          "base_uri": "https://localhost:8080/",
          "height": 36
        },
        "outputId": "a4e8556c-2f0b-4999-e5af-84830f82f0ce"
      },
      "source": [
        "import shutil\n",
        "shutil.copy(\"/content/drive/MyDrive/sis_420/Labs/Lab_03/exams.csv\",\"/content/data/exams.csv\")\n"
      ],
      "execution_count": 452,
      "outputs": [
        {
          "output_type": "execute_result",
          "data": {
            "text/plain": [
              "'/content/data/exams.csv'"
            ],
            "application/vnd.google.colaboratory.intrinsic+json": {
              "type": "string"
            }
          },
          "metadata": {},
          "execution_count": 452
        }
      ]
    },
    {
      "cell_type": "code",
      "metadata": {
        "id": "2j4beWIbfDON",
        "colab": {
          "base_uri": "https://localhost:8080/"
        },
        "outputId": "89a3e26b-d97e-492b-bc3d-bc608dc77c3e"
      },
      "source": [
        "#  LAB 03, 9/09/23\n",
        "#  https://www.kaggle.com/datasets/rkiattisak/student-performance-in-mathematics\n",
        "##\n",
        "\n",
        "# Cargar datos\n",
        "data = pd.read_csv( os.path.join('data', 'exams.csv') )\n",
        "data.info()\n",
        "\n"
      ],
      "execution_count": 453,
      "outputs": [
        {
          "output_type": "stream",
          "name": "stdout",
          "text": [
            "<class 'pandas.core.frame.DataFrame'>\n",
            "RangeIndex: 1000 entries, 0 to 999\n",
            "Data columns (total 8 columns):\n",
            " #   Column                       Non-Null Count  Dtype \n",
            "---  ------                       --------------  ----- \n",
            " 0   gender                       1000 non-null   object\n",
            " 1   race/ethnicity               1000 non-null   object\n",
            " 2   parental level of education  1000 non-null   object\n",
            " 3   lunch                        1000 non-null   object\n",
            " 4   test preparation course      1000 non-null   object\n",
            " 5   math score                   1000 non-null   int64 \n",
            " 6   reading score                1000 non-null   int64 \n",
            " 7   writing score                1000 non-null   int64 \n",
            "dtypes: int64(3), object(5)\n",
            "memory usage: 62.6+ KB\n"
          ]
        }
      ]
    },
    {
      "cell_type": "code",
      "source": [
        "columnas_categoricas = data.select_dtypes(include=['object']).columns\n",
        "for columna in columnas_categoricas:\n",
        "  le = LabelEncoder()\n",
        "  data[columna] = le.fit_transform(data[columna])\n",
        "\n",
        "# ordenamos las columnas\n",
        "col = data.pop(\"test preparation course\")\n",
        "data.insert(len(data.columns), \"test preparation course\", col)\n",
        "\n",
        "data.info()"
      ],
      "metadata": {
        "id": "x9JR4H4H5SzJ",
        "colab": {
          "base_uri": "https://localhost:8080/"
        },
        "outputId": "e0d899a6-a178-4a64-c61c-cadef656fd63"
      },
      "execution_count": 454,
      "outputs": [
        {
          "output_type": "stream",
          "name": "stdout",
          "text": [
            "<class 'pandas.core.frame.DataFrame'>\n",
            "RangeIndex: 1000 entries, 0 to 999\n",
            "Data columns (total 8 columns):\n",
            " #   Column                       Non-Null Count  Dtype\n",
            "---  ------                       --------------  -----\n",
            " 0   gender                       1000 non-null   int64\n",
            " 1   race/ethnicity               1000 non-null   int64\n",
            " 2   parental level of education  1000 non-null   int64\n",
            " 3   lunch                        1000 non-null   int64\n",
            " 4   math score                   1000 non-null   int64\n",
            " 5   reading score                1000 non-null   int64\n",
            " 6   writing score                1000 non-null   int64\n",
            " 7   test preparation course      1000 non-null   int64\n",
            "dtypes: int64(8)\n",
            "memory usage: 62.6 KB\n"
          ]
        }
      ]
    },
    {
      "cell_type": "code",
      "source": [
        "first_80_percent = int(0.8 * len(data))\n",
        "\n",
        "train = data[:first_80_percent]\n",
        "test  = data[first_80_percent:]\n",
        "\n",
        "# train.info()\n",
        "X = train.iloc[:, :7].values\n",
        "y = train.iloc[:, 7].values\n",
        "\n",
        "row_test = [0, 3, 4, 1, 0, 59, 70, 78]\n",
        "print(X)\n",
        "print(y)"
      ],
      "metadata": {
        "colab": {
          "base_uri": "https://localhost:8080/"
        },
        "id": "rb2O2a-o5hXq",
        "outputId": "67d49fff-5090-46f1-8350-5cbb119c8a0d"
      },
      "execution_count": 455,
      "outputs": [
        {
          "output_type": "stream",
          "name": "stdout",
          "text": [
            "[[ 0  3  4 ... 59 70 78]\n",
            " [ 1  3  0 ... 96 93 87]\n",
            " [ 0  3  4 ... 57 76 77]\n",
            " ...\n",
            " [ 0  3  4 ... 81 93 94]\n",
            " [ 0  1  0 ... 61 64 63]\n",
            " [ 1  1  2 ... 51 52 46]]\n",
            "[0 1 1 1 1 1 1 1 1 0 1 1 1 1 1 1 1 1 1 0 1 0 1 1 0 1 1 1 1 1 0 1 0 1 0 1 1\n",
            " 0 0 1 0 0 1 1 1 1 0 0 1 0 0 0 1 0 1 1 1 0 1 1 0 0 1 1 1 1 1 0 1 1 0 0 1 0\n",
            " 0 1 0 1 0 1 1 0 1 0 1 1 0 1 1 1 0 1 1 1 1 0 0 1 0 1 1 1 1 1 1 1 0 1 0 1 0\n",
            " 1 0 0 0 1 1 0 1 1 0 1 0 1 0 1 0 0 1 1 1 1 0 1 0 1 1 1 1 1 1 1 1 1 1 0 1 1\n",
            " 1 1 0 1 1 1 1 1 0 0 0 1 1 1 0 0 1 1 1 1 0 0 0 1 0 1 1 1 1 1 0 1 1 1 1 0 0\n",
            " 1 1 1 1 1 1 0 1 0 1 1 0 1 0 0 0 1 1 1 1 1 1 1 1 0 1 0 1 1 1 0 1 0 1 1 1 0\n",
            " 0 1 1 1 0 1 1 1 0 1 1 1 0 1 0 0 0 1 0 1 1 1 0 0 0 1 0 1 1 1 0 0 1 1 1 0 0\n",
            " 1 1 0 1 1 1 1 1 1 1 0 1 0 1 1 1 1 1 0 1 1 1 1 1 1 0 0 1 1 1 1 1 1 1 1 1 1\n",
            " 0 1 1 0 1 1 0 1 0 0 1 1 0 1 0 1 0 1 1 1 1 1 1 1 0 1 0 0 1 1 1 1 0 1 1 1 1\n",
            " 1 1 1 1 0 0 0 1 1 1 0 1 1 1 1 1 1 1 1 1 1 0 1 0 1 0 0 1 1 0 1 0 0 1 0 1 1\n",
            " 1 0 0 1 1 1 1 0 0 0 0 1 1 1 0 1 0 0 1 0 1 1 1 1 1 0 1 1 1 1 1 1 1 1 1 0 1\n",
            " 1 0 1 0 1 1 0 1 1 1 1 1 0 1 0 0 1 0 1 1 0 1 1 1 1 0 1 1 0 0 1 0 1 1 1 1 0\n",
            " 0 0 1 1 1 1 1 1 1 1 1 1 1 0 1 1 1 0 1 1 1 0 0 1 1 0 1 0 0 0 1 1 0 1 1 1 1\n",
            " 1 1 1 1 0 1 0 0 0 1 0 1 1 0 1 1 1 1 1 1 0 1 1 0 0 1 1 0 1 0 1 1 1 1 0 0 1\n",
            " 0 0 1 0 0 0 1 0 1 0 0 1 0 0 1 0 0 0 0 1 0 0 0 1 1 0 1 1 1 1 0 0 1 0 1 1 1\n",
            " 0 0 1 1 0 0 1 1 1 0 1 0 0 1 0 1 1 1 1 1 0 1 1 1 1 0 1 0 1 1 1 1 1 1 0 0 1\n",
            " 1 1 1 1 0 0 1 0 1 1 1 1 1 1 1 0 0 0 1 1 0 0 0 0 0 0 0 1 1 0 1 1 0 0 1 0 1\n",
            " 0 1 0 1 0 1 0 1 0 1 1 0 1 1 0 1 0 1 1 0 1 0 0 1 0 1 1 1 0 1 1 1 0 1 0 0 0\n",
            " 1 0 0 0 1 1 0 1 1 1 0 1 1 0 0 1 1 0 1 1 1 1 1 0 1 0 1 1 0 0 1 1 1 1 1 1 1\n",
            " 1 1 1 0 0 1 1 0 1 1 1 0 1 0 1 1 0 1 0 1 0 1 1 1 1 1 1 1 0 0 1 0 1 1 0 0 0\n",
            " 0 1 1 1 1 1 1 0 1 0 1 1 1 0 1 1 0 0 1 1 0 1 1 1 1 1 0 1 1 0 1 1 0 0 1 0 1\n",
            " 0 1 0 0 1 1 1 1 1 1 1 1 1 1 1 1 1 1 1 1 0 1 1]\n"
          ]
        }
      ]
    },
    {
      "cell_type": "code",
      "metadata": {
        "id": "xRHj_fp9fDOO"
      },
      "source": [
        "def plotData(X, y):\n",
        "    # Gragica los puntos de datos X y y en una nueva figura. Grafica los puntos de datos con * para los positivos y\n",
        "    # o para los negativos.\n",
        "\n",
        "    # Crea una nueva figura\n",
        "    fig = pyplot.figure()\n",
        "\n",
        "    # Find Indices of Positive and Negative Examples\n",
        "    pos = y == 1\n",
        "    neg = y == 0\n",
        "\n",
        "    # Plot Examples\n",
        "    pyplot.plot(X[pos, 0], X[pos, 1], 'k*', lw=2, ms=10)\n",
        "    pyplot.plot(X[neg, 0], X[neg, 1], 'ko', mfc='y', ms=8, mec='k', mew=1)\n"
      ],
      "execution_count": 456,
      "outputs": []
    },
    {
      "cell_type": "code",
      "metadata": {
        "id": "Z8zAR-pwfDOP",
        "colab": {
          "base_uri": "https://localhost:8080/",
          "height": 449
        },
        "outputId": "a45d244d-d78c-4946-c15d-10c9edfdfb7c"
      },
      "source": [
        "plotData(X, y)\n",
        "# adiciona etiquetas para los ejes\n",
        "pyplot.xlabel('Calificación Examen Mate')\n",
        "pyplot.ylabel('Calificación Examen Lectura')\n",
        "pyplot.legend(['Aceptable', 'No aceptable '])\n",
        "pass"
      ],
      "execution_count": 457,
      "outputs": [
        {
          "output_type": "display_data",
          "data": {
            "text/plain": [
              "<Figure size 640x480 with 1 Axes>"
            ],
            "image/png": "[encoded data removed]"
          },
          "metadata": {}
        }
      ]
    },
    {
      "cell_type": "code",
      "metadata": {
        "id": "Yxz27db7fDOQ"
      },
      "source": [
        "def sigmoid(z):\n",
        "    z = np.array(z)\n",
        "    g = np.zeros(z.shape)\n",
        "    g = 1 / (1 + np.exp(-z))\n",
        "    return g"
      ],
      "execution_count": 458,
      "outputs": []
    },
    {
      "cell_type": "code",
      "metadata": {
        "id": "arfKRAAVfDOQ",
        "colab": {
          "base_uri": "https://localhost:8080/"
        },
        "outputId": "3cd1bf07-4771-42e1-b560-c2b2d8c608f1"
      },
      "source": [
        "# Prueba la implementacion de la funcion sigmoid\n",
        "z = 0\n",
        "g = sigmoid(z)\n",
        "print('g(', z, ') = ', g)"
      ],
      "execution_count": 459,
      "outputs": [
        {
          "output_type": "stream",
          "name": "stdout",
          "text": [
            "g( 0 ) =  0.5\n"
          ]
        }
      ]
    },
    {
      "cell_type": "code",
      "metadata": {
        "id": "COMnlBxmfDOR",
        "colab": {
          "base_uri": "https://localhost:8080/"
        },
        "outputId": "b1568a7a-1a14-4a88-c238-4cf5531f0628"
      },
      "source": [
        "# Configurar la matriz adecuadamente, y agregar una columna de unos que corresponde al termino de intercepción.\n",
        "m, n = X.shape\n",
        "# Agraga el termino de intercepción a A\n",
        "X = np.concatenate([np.ones((m, 1)), X], axis=1)\n",
        "\n",
        "print(X[5])"
      ],
      "execution_count": 460,
      "outputs": [
        {
          "output_type": "stream",
          "name": "stdout",
          "text": [
            "[ 1.  1.  2.  5.  1. 68. 57. 54.]\n"
          ]
        }
      ]
    },
    {
      "cell_type": "code",
      "metadata": {
        "id": "Cu1DP0y0fDOT"
      },
      "source": [
        "def calcularCosto(theta, X, y):\n",
        "    # Inicializar algunos valores utiles\n",
        "    m = y.size  # numero de ejemplos de entrenamiento\n",
        "    J = 0\n",
        "    h = sigmoid(X.dot(theta.T))\n",
        "    J = (1 / m) * np.sum(-y.dot(np.log(h)) - (1 - y).dot(np.log(1 - h)))\n",
        "    return J"
      ],
      "execution_count": 461,
      "outputs": []
    },
    {
      "cell_type": "code",
      "metadata": {
        "id": "BZhegpMZfDOT"
      },
      "source": [
        "def descensoGradiente(theta, X, y, alpha, num_iters):\n",
        "    # Inicializa algunos valores\n",
        "    m = y.shape[0] # numero de ejemplos de entrenamiento\n",
        "    # realiza una copia de theta, el cual será acutalizada por el descenso por el gradiente\n",
        "    theta = theta.copy()\n",
        "    J_history = []\n",
        "    for i in range(num_iters):\n",
        "        h = sigmoid(X.dot(theta.T))\n",
        "        theta = theta - (alpha / m) * (h - y).dot(X)\n",
        "        J_history.append(calcularCosto(theta, X, y))\n",
        "    return theta, J_history"
      ],
      "execution_count": 462,
      "outputs": []
    },
    {
      "cell_type": "code",
      "metadata": {
        "scrolled": true,
        "id": "SWXIkeQafDOT",
        "colab": {
          "base_uri": "https://localhost:8080/",
          "height": 518
        },
        "outputId": "27b08a0d-08ef-4e2d-a385-885126c45554"
      },
      "source": [
        "# Elegir algun valor para alpha (probar varias alternativas)\n",
        "alpha = 0.0002\n",
        "num_iters = 20000\n",
        "\n",
        "# inicializa theta y ejecuta el descenso por el gradiente\n",
        "theta = np.zeros(8)\n",
        "theta, J_history = descensoGradiente(theta, X, y, alpha, num_iters)\n",
        "\n",
        "# Grafica la convergencia del costo\n",
        "pyplot.plot(np.arange(len(J_history)), J_history, lw=2)\n",
        "pyplot.xlabel('Numero de iteraciones')\n",
        "pyplot.ylabel('Costo')\n",
        "\n",
        "# Muestra los resultados del descenso por el gradiente\n",
        "print('theta calculado por el descenso por el gradiente: {:s}'.format(str(theta)))\n",
        "\n",
        "# verificar el redimiento del un estudiante\n",
        "X_array = row_test.copy()\n",
        "aprueba = sigmoid(np.dot(X_array, theta))\n",
        "\n",
        "print(f\"Un estudiante con nota de matematicas: {X_array[5]}, lectura: {X_array[6]}, escritura: {X_array[7]} (usando el descenso por el gradiente): {aprueba} \\n\")\n"
      ],
      "execution_count": 463,
      "outputs": [
        {
          "output_type": "stream",
          "name": "stdout",
          "text": [
            "theta calculado por el descenso por el gradiente: [ 0.08058169 -0.10583084  0.05870053  0.03034704  0.10590115  0.04515925\n",
            "  0.15708851 -0.19868291]\n",
            "Un estudiante con nota de matematicas: 59, lectura: 70, escritura: 78 (usando el descenso por el gradiente): 0.13135644470477773 \n",
            "\n"
          ]
        },
        {
          "output_type": "display_data",
          "data": {
            "text/plain": [
              "<Figure size 640x480 with 1 Axes>"
            ],
            "image/png": "[encoded data removed]"
          },
          "metadata": {}
        }
      ]
    },
    {
      "cell_type": "code",
      "metadata": {
        "id": "SVHZbgOZfDOU"
      },
      "source": [
        "def costFunction(theta, X, y):\n",
        "    # Inicializar algunos valores utiles\n",
        "    m = y.size  # numero de ejemplos de entrenamiento\n",
        "    J = 0\n",
        "    grad = np.zeros(theta.shape)\n",
        "    h = sigmoid(X.dot(theta.T)) #hipotesis\n",
        "    J = (1 / m) * np.sum(-y.dot(np.log(h)) - (1 - y).dot(np.log(1 - h)))\n",
        "    grad = (1 / m) * (h - y).dot(X)\n",
        "\n",
        "    return J, grad"
      ],
      "execution_count": 464,
      "outputs": []
    },
    {
      "cell_type": "markdown",
      "metadata": {
        "id": "2i_6-QS7fDOU"
      },
      "source": [
        "Se prueba la funcion `costFunction` utilizando dos casos de prueba para $\\theta$."
      ]
    },
    {
      "cell_type": "code",
      "metadata": {
        "id": "KCq2CXdWfDOU",
        "colab": {
          "base_uri": "https://localhost:8080/"
        },
        "outputId": "55aabc28-42f4-4f89-9064-e34a6256b74e"
      },
      "source": [
        "# Inicializacion de parametros de ajuste\n",
        "initial_theta = np.zeros(n+1)\n",
        "print(initial_theta)\n",
        "cost, grad = costFunction(initial_theta, X, y)\n",
        "\n",
        "print('Costo en theta inicial (zeros): {:.3f}'.format(cost))\n",
        "\n",
        "print(grad)\n",
        "print('Gradiente en theta inicial (zeros):')\n",
        "print('\\t[{:.3f}, {:.3f}, {:.3f},{:.3f}, {:.3f}, {:.3f},{:.3f}, {:.3f}]'.format(*grad))\n",
        "\n"
      ],
      "execution_count": 465,
      "outputs": [
        {
          "output_type": "stream",
          "name": "stdout",
          "text": [
            "[0. 0. 0. 0. 0. 0. 0. 0.]\n",
            "Costo en theta inicial (zeros): 0.693\n",
            "[-0.15125  -0.085    -0.3125   -0.378125 -0.12375  -9.42875  -9.239375\n",
            " -8.26625 ]\n",
            "Gradiente en theta inicial (zeros):\n",
            "\t[-0.151, -0.085, -0.312,-0.378, -0.124, -9.429,-9.239, -8.266]\n"
          ]
        }
      ]
    },
    {
      "cell_type": "code",
      "metadata": {
        "id": "ShafqjdBfDOU",
        "colab": {
          "base_uri": "https://localhost:8080/"
        },
        "outputId": "0c7dcbc0-9534-4031-f0f1-462214ca93d0"
      },
      "source": [
        "# Calcula y muestra el costo y el gradiente con valores de theta diferentes a cero\n",
        "\n",
        "test_theta = np.array( [-0.6, -0.2, -0.1, -0.3, -3, -2, -1, -2 ] )\n",
        "\n",
        "#test_theta = np.array([-11.74749157, 0.09927308, 0.09316497])\n",
        "print(test_theta)\n",
        "cost, grad = costFunction(test_theta, X, y)\n",
        "\n",
        "print('Costo en theta prueba: {:.3f}'.format(cost))\n",
        "\n",
        "print('Gradiente en theta prueba:')\n",
        "print('\\t[{:.3f}, {:.3f}, {:.3f},{:.3f}, {:.3f}, {:.3f},{:.3f}, {:.3f}]'.format(*grad))"
      ],
      "execution_count": 466,
      "outputs": [
        {
          "output_type": "stream",
          "name": "stdout",
          "text": [
            "[-0.6 -0.2 -0.1 -0.3 -3.  -2.  -1.  -2. ]\n",
            "Costo en theta prueba: 218.499\n",
            "Gradiente en theta prueba:\n",
            "\t[-0.651, -0.335, -1.397,-1.650, -0.448, -43.079,-44.339, -42.784]\n"
          ]
        }
      ]
    },
    {
      "cell_type": "code",
      "metadata": {
        "scrolled": true,
        "id": "xBuAfC8zfDOV",
        "colab": {
          "base_uri": "https://localhost:8080/"
        },
        "outputId": "6a75e746-e6ee-4d63-9cd0-7dcb5cde8aa9"
      },
      "source": [
        "# Establecer las opciones para optimize.minimize\n",
        "options= {'maxiter': 1000}\n",
        "\n",
        "res = optimize.minimize(costFunction, initial_theta, (X, y), jac=True, method='TNC', options=options)\n",
        "\n",
        "# la propiedad fun del objeto devuelto por `OptimizeResult`\n",
        "\n",
        "cost = res.fun # contiene el valor de costo\n",
        "theta = res.x # Theta optimizada esta en la propiedad x\n",
        "\n",
        "# Imprimir theta en la pantalla\n",
        "print('Costo con un valor de theta encontrado por optimize.minimize: {:.3f}'.format(cost))\n",
        "\n",
        "print('theta:')\n",
        "print(theta)\n",
        "print('\\t[{:.3f}, {:.3f}, {:.3f},{:.3f}, {:.3f}, {:.3f},{:.3f}, {:.3f} ]'.format(*theta))"
      ],
      "execution_count": 467,
      "outputs": [
        {
          "output_type": "stream",
          "name": "stdout",
          "text": [
            "Costo con un valor de theta encontrado por optimize.minimize: 0.486\n",
            "theta:\n",
            "[ 5.49533717 -2.23754558  0.01936608 -0.10354852  0.6366834   0.11587535\n",
            "  0.13511346 -0.30357086]\n",
            "\t[5.495, -2.238, 0.019,-0.104, 0.637, 0.116,0.135, -0.304 ]\n"
          ]
        },
        {
          "output_type": "stream",
          "name": "stderr",
          "text": [
            "<ipython-input-467-8a51a25fc699>:4: DeprecationWarning: 'maxiter' has been deprecated in favor of 'maxfun' and will be removed in SciPy 1.11.0.\n",
            "  res = optimize.minimize(costFunction, initial_theta, (X, y), jac=True, method='TNC', options=options)\n"
          ]
        }
      ]
    },
    {
      "cell_type": "code",
      "source": [
        "# verificar si ingresa o no a la universidad\n",
        "X_array = row_test.copy()\n",
        "theta_om =[-2.33537208, -1.30567305, -0.24192603,  0.11717747,  0.43046607,  0.13982024, -0.05113825, -0.03059966]\n",
        "aprueba = sigmoid(np.dot(X_array, theta_om))\n",
        "\n",
        "print(f\"Un estudiante con nota de matematicas: {X_array[5]}, lectura: {X_array[6]}, escritura: {X_array[7]} (usando el descenso por el gradiente): {aprueba} \\n\")\n"
      ],
      "metadata": {
        "colab": {
          "base_uri": "https://localhost:8080/"
        },
        "id": "gi59sTcYU9py",
        "outputId": "8129dc5d-0b4d-4d13-ad67-3bfc4db42f24"
      },
      "execution_count": 468,
      "outputs": [
        {
          "output_type": "stream",
          "name": "stdout",
          "text": [
            "Un estudiante con nota de matematicas: 59, lectura: 70, escritura: 78 (usando el descenso por el gradiente): 0.07694466761401868 \n",
            "\n"
          ]
        }
      ]
    },
    {
      "cell_type": "code",
      "metadata": {
        "id": "pLP6foKzfDOW"
      },
      "source": [
        "#\n",
        "# def plotDecisionBoundary(plotData, theta, X, y):\n",
        "#     \"\"\"\n",
        "#     Grafica los puntos X y Y en una nueva figura con un limite de desicion definido por theta.\n",
        "#     the data points X and y into a new figure with the decision boundary defined by theta.\n",
        "#     Grafica los puntos con * para los ejemplos positivos y con o para los ejemplos negativos.\n",
        "\n",
        "#     Parametros:\n",
        "#     ----------\n",
        "#     plotData : func\n",
        "#         A function reference for plotting the X, y data.\n",
        "\n",
        "#     theta : array_like\n",
        "#         Parametros para la regresion logistica. Un vecto de la forma (n+1, ).\n",
        "\n",
        "#     X : array_like\n",
        "#         Data set de entrada. Se supone que X es una de las siguientes:\n",
        "#             1) Matriz Mx3, donde la primera columna es una columna de unos para intercepción.\n",
        "#             2) Matriz MxN, N> 3, donde la primera columna son todos unos.\n",
        "\n",
        "#     y : array_like\n",
        "#         Vector de datos de etiquetas de la forma (m, ).\n",
        "#     \"\"\"\n",
        "#     # hacer que theta sera un arreglo numpy\n",
        "#     theta = np.array(theta)\n",
        "\n",
        "#     # Graficar los datos (recordar que la primera columna en X es la intercepción)\n",
        "#     plotData(X[:, 1:3], y)\n",
        "\n",
        "#     if X.shape[1] <= 3:\n",
        "#         # Solo se requieren 2 puntos para definir una linea, para lo cual se eligen dos puntos finales\n",
        "#         plot_x = np.array([np.min(X[:, 1]) - 2, np.max(X[:, 1]) + 2])\n",
        "\n",
        "#         # Calcular la línea límite de decisión\n",
        "#         plot_y = (-1. / theta[2]) * (theta[1] * plot_x + theta[0])\n",
        "\n",
        "#         print(plot_x)\n",
        "#         print(plot_y)\n",
        "#         # Graficar y ajustar los ejes para una mejor visualización\n",
        "#         pyplot.plot(plot_x, plot_y)\n",
        "\n",
        "#         # Leyenda, especifica para el ejercicio\n",
        "#         pyplot.legend(['Admitido', 'No admitido', 'Limite de decisión'])\n",
        "#         pyplot.xlim([30, 100])\n",
        "#         pyplot.ylim([30, 100])\n",
        "#     else:\n",
        "#         # Rango de la grilla\n",
        "#         u = np.linspace(-1, 1.5, 50)\n",
        "#         v = np.linspace(-1, 1.5, 50)\n",
        "\n",
        "#         z = np.zeros((u.size, v.size))\n",
        "#         # Evalua z = theta*x sobre la grilla\n",
        "#         for i, ui in enumerate(u):\n",
        "#             for j, vj in enumerate(v):\n",
        "#                 z[i, j] = np.dot(mapFeature(ui, vj), theta)\n",
        "\n",
        "#         z = z.T  # importante transponer z antes de llamar al contorno\n",
        "#         # print(z)\n",
        "\n",
        "#         # Plot z = 0\n",
        "#         pyplot.contour(u, v, z, levels=[0], linewidths=2, colors='g')\n",
        "#         pyplot.contourf(u, v, z, levels=[np.min(z), 0, np.max(z)], cmap='Greens', alpha=0.4)\n"
      ],
      "execution_count": 469,
      "outputs": []
    },
    {
      "cell_type": "code",
      "metadata": {
        "id": "2n8dh3vqfDOW"
      },
      "source": [
        "# Graficar limites\n",
        "# plotDecisionBoundary(plotData, theta, X, y)"
      ],
      "execution_count": 470,
      "outputs": []
    },
    {
      "cell_type": "code",
      "metadata": {
        "id": "kjavk2fEfDOX"
      },
      "source": [
        "def predict(theta, X):\n",
        "    m = X.shape[0] # Numero de ejemplo de entrenamiento\n",
        "    p = np.zeros(m)\n",
        "    p = np.round(sigmoid(X.dot(theta.T)))\n",
        "    return p"
      ],
      "execution_count": 471,
      "outputs": []
    },
    {
      "cell_type": "code",
      "metadata": {
        "id": "R075_m5sfDOX",
        "colab": {
          "base_uri": "https://localhost:8080/"
        },
        "outputId": "841b9f49-65b3-47fc-fb78-f06b466957e6"
      },
      "source": [
        "\n",
        "prob = sigmoid(np.dot([1, 0, 1, 1, 60, 69, 76, 1], theta))\n",
        "print('Se predice una probabilidad rendimiento aceptable: {:.3f}%'.format(prob))\n",
        "\n",
        "# Compute accuracy on our training set\n",
        "p = predict(theta, X)\n",
        "print('Precisión de entrenamiento: {:.2f} %'.format(np.mean(p == y) * 100))"
      ],
      "execution_count": 472,
      "outputs": [
        {
          "output_type": "stream",
          "name": "stdout",
          "text": [
            "Se predice una probabilidad rendimiento aceptable: 1.000%\n",
            "Precisión de entrenamiento: 76.25 %\n"
          ]
        }
      ]
    }
  ]
}