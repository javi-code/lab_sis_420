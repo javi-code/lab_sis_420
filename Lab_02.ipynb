{
  "nbformat": 4,
  "nbformat_minor": 0,
  "metadata": {
    "colab": {
      "provenance": [],
      "authorship_tag": "ABX9TyMeIuxpS82SBT+Lx+N3K1Vw",
      "include_colab_link": true
    },
    "kernelspec": {
      "name": "python3",
      "display_name": "Python 3"
    },
    "language_info": {
      "name": "python"
    }
  },
  "cells": [
    {
      "cell_type": "markdown",
      "metadata": {
        "id": "view-in-github",
        "colab_type": "text"
      },
      "source": [
        "<a href=\"https://colab.research.google.com/github/javi-code/lab_sis_420/blob/master/Lab_02.ipynb\" target=\"_parent\"><img src=\"https://colab.research.google.com/assets/colab-badge.svg\" alt=\"Open In Colab\"/></a>"
      ]
    },
    {
      "cell_type": "code",
      "execution_count": 880,
      "metadata": {
        "id": "NXWIqmfmOjfq"
      },
      "outputs": [],
      "source": [
        "import os\n",
        "import numpy as np\n",
        "import pandas as pd\n",
        "\n",
        "from datetime import datetime\n",
        "from sklearn.preprocessing import LabelEncoder\n",
        "\n",
        "# Librerias para graficar\n",
        "from matplotlib import pyplot\n",
        "from mpl_toolkits.mplot3d import Axes3D\n",
        "%matplotlib inline"
      ]
    },
    {
      "cell_type": "code",
      "source": [
        "#  LAB 02, 28/08/23\n",
        "#  https://www.kaggle.com/datasets/mohammadtalib786/pubg-stats-dataset\n",
        "##\n",
        "\n",
        "datos = pd.read_csv('/content/Pubg_Stats.csv')\n",
        "#datos.head()\n",
        "datos.info() # Muestra la informacion, para verificar que todos los datos esten completos"
      ],
      "metadata": {
        "colab": {
          "base_uri": "https://localhost:8080/"
        },
        "id": "ykoCCwghOmtO",
        "outputId": "ff189ae0-2d44-4b66-bad2-2bd68c15d0bf"
      },
      "execution_count": 881,
      "outputs": [
        {
          "output_type": "stream",
          "name": "stdout",
          "text": [
            "<class 'pandas.core.frame.DataFrame'>\n",
            "RangeIndex: 221 entries, 0 to 220\n",
            "Data columns (total 15 columns):\n",
            " #   Column             Non-Null Count  Dtype \n",
            "---  ------             --------------  ----- \n",
            " 0   Unnamed: 0         221 non-null    int64 \n",
            " 1   Player_Name        221 non-null    object\n",
            " 2   Matches_Played     221 non-null    int64 \n",
            " 3   Kills              221 non-null    int64 \n",
            " 4   Deaths             221 non-null    int64 \n",
            " 5   Assists            221 non-null    int64 \n",
            " 6   Damage_Dealt       221 non-null    int64 \n",
            " 7   Headshots          221 non-null    int64 \n",
            " 8   Wins               221 non-null    int64 \n",
            " 9   Top_10s            221 non-null    int64 \n",
            " 10  Revives            221 non-null    int64 \n",
            " 11  Distance_Traveled  221 non-null    int64 \n",
            " 12  Weapons_Used       221 non-null    int64 \n",
            " 13  Time_Survived      221 non-null    int64 \n",
            " 14  Rank               221 non-null    object\n",
            "dtypes: int64(13), object(2)\n",
            "memory usage: 26.0+ KB\n"
          ]
        }
      ]
    },
    {
      "cell_type": "code",
      "source": [
        "# datos.drop(columns=datos.columns[0], axis=1)\n",
        "datos.drop(columns=datos.columns[0], axis=1, inplace=True)\n",
        "datos.drop(columns=datos.columns[0], axis=1, inplace=True)\n",
        "datos.drop('Rank', axis=1)\n",
        "\n",
        "# cols categoricas (object), para convertir a numericas\n",
        "columnas_categoricas = datos.select_dtypes(include=['object']).columns\n",
        "for columna in columnas_categoricas:\n",
        "  le = LabelEncoder()\n",
        "  datos[columna] = le.fit_transform(datos[columna])"
      ],
      "metadata": {
        "id": "kU9osAESPkm3"
      },
      "execution_count": 882,
      "outputs": []
    },
    {
      "cell_type": "code",
      "source": [
        "# ordenamos las columnas y Leemos los datos de cols\n",
        "col = datos.pop(\"Wins\")\n",
        "datos.insert(len(datos.columns), \"Wins\", col)\n",
        "\n",
        "dataCol = datos.values\n",
        "X = dataCol[:, :11]\n",
        "y = dataCol[:, 12]\n",
        "m = y.size\n",
        "\n",
        "x_normal  = X.copy() # para usar en la normal\n",
        "print(X)\n",
        "print('='*25)\n",
        "print(y)"
      ],
      "metadata": {
        "colab": {
          "base_uri": "https://localhost:8080/"
        },
        "id": "eWxNrI74RvhI",
        "outputId": "f4249740-5dc0-4543-ed34-b610969a6260"
      },
      "execution_count": 883,
      "outputs": [
        {
          "output_type": "stream",
          "name": "stdout",
          "text": [
            "[[  250   587   143 ... 72560    12 28976]\n",
            " [  312   823   218 ... 89042    15 33652]\n",
            " [  186   492    84 ... 60924    10 21764]\n",
            " ...\n",
            " [  206   553   117 ... 58789    10 24579]\n",
            " [  220   597   144 ... 60978    11 25679]\n",
            " [  225   624   149 ... 61789    11 25967]]\n",
            "=========================\n",
            "[32 42 28 55 20 35 26 18 47 23 27 41 18 44 36 25 39 31 22 28 37 24 40 32\n",
            " 29 35 37 23 31 36 27 41 18 44 36 25 39 31 22 28 37 24 40 32 29 35 37 23\n",
            " 31 36 27 41 18 44 36 25 39 31 22 28 37 24 40 32 29 35 37 23 31 36 27 41\n",
            " 18 44 36 25 39 31 22 28 37 24 40 32 29 35 37 23 31 36 39 30 37 21 48 25\n",
            " 29 36 22 34 28 33 35 31 30 32 25 36 28 30 35 37 34 40 29 32 26 34 24 35\n",
            " 29 36 38 28 33 28 34 35 31 29 32 26 36 28 30 34 37 38 29 30 34 27 35 29\n",
            " 30 33 37 37 29 30 28 34 35 31 29 32 26 36 28 30 34 37 38 29 30 34 27 35\n",
            " 29 30 33 37 37 29 30 28 34 35 31 29 32 26 36 28 30 34 37 38 29 30 34 27\n",
            " 35 29 30 33 37 37 29 30 31 33 35 30 29 32 26 34 29 30 35 38 29 30 33 36\n",
            " 39 27 29 32 33]\n"
          ]
        }
      ]
    },
    {
      "cell_type": "code",
      "source": [
        "def  featureNormalize(X):\n",
        "    X_norm = X.copy()\n",
        "    mu = np.zeros(X.shape[1])\n",
        "    sigma = np.zeros(X.shape[1])\n",
        "    mu = np.mean(X, axis = 0)\n",
        "    sigma = np.std(X, axis = 0)\n",
        "    X_norm = (X - mu) / sigma\n",
        "    return X_norm, mu, sigma"
      ],
      "metadata": {
        "id": "knU5EgF0SkT3"
      },
      "execution_count": 884,
      "outputs": []
    },
    {
      "cell_type": "code",
      "source": [
        "# llama featureNormalize con los datos cargados\n",
        "X_norm, mu, sigma = featureNormalize(X)\n",
        "\n",
        "print('___Media calculada___' )\n",
        "print( mu)\n",
        "print('___Desviación estandar calculada___')\n",
        "print(sigma)\n",
        "print(X_norm)"
      ],
      "metadata": {
        "colab": {
          "base_uri": "https://localhost:8080/"
        },
        "id": "7O8PCgNySnjJ",
        "outputId": "21875e4f-ac76-4a44-c9b9-126fabf65deb"
      },
      "execution_count": 885,
      "outputs": [
        {
          "output_type": "stream",
          "name": "stdout",
          "text": [
            "___Media calculada___\n",
            "[2.34624434e+02 6.12674208e+02 1.42579186e+02 9.26153846e+01\n",
            " 1.48010045e+04 2.07361991e+02 1.10357466e+02 5.43303167e+01\n",
            " 6.14493167e+04 1.08597285e+01 2.54444208e+04]\n",
            "___Desviación estandar calculada___\n",
            "[3.70942195e+01 8.91089257e+01 3.28080848e+01 2.13745215e+01\n",
            " 1.89863778e+03 2.97084659e+01 2.37407529e+01 1.04125070e+01\n",
            " 5.76244758e+03 1.31584768e+00 2.69316499e+03]\n",
            "[[ 0.41450031 -0.28812162  0.01282655 ...  1.92811876  0.866568\n",
            "   1.31131186]\n",
            " [ 2.08591976  2.36032238  2.29884844 ...  4.7883617   3.14646713\n",
            "   3.047559  ]\n",
            " [-1.31083589 -1.35423255 -1.78551067 ... -0.09116209 -0.65336476\n",
            "  -1.3665783 ]\n",
            " ...\n",
            " [-0.77166833 -0.66967711 -0.77966104 ... -0.46166437 -0.65336476\n",
            "  -0.32133969]\n",
            " [-0.39425103 -0.17589942  0.04330684 ... -0.08179107  0.10660162\n",
            "   0.08710168]\n",
            " [-0.25945914  0.12710053  0.1957083  ...  0.05894774  0.10660162\n",
            "   0.19403905]]\n"
          ]
        }
      ]
    },
    {
      "cell_type": "code",
      "source": [
        "# Añade el termino de interseccion a X (cols de 1)\n",
        "X = np.concatenate([np.ones((m, 1)), X_norm], axis=1)"
      ],
      "metadata": {
        "id": "a4g0fAtMSs3C"
      },
      "execution_count": 886,
      "outputs": []
    },
    {
      "cell_type": "code",
      "source": [
        "def computeCostMulti(X, y, theta):\n",
        "    m = y.shape[0]     # numero de ejemplos de entrenamiento\n",
        "    J = 0\n",
        "    h = np.dot(X, theta)\n",
        "    J = (1/(2 * m)) * np.sum(np.square(np.dot(X, theta) - y))\n",
        "    return J"
      ],
      "metadata": {
        "id": "GhHTx0MqS3zE"
      },
      "execution_count": 887,
      "outputs": []
    },
    {
      "cell_type": "code",
      "source": [
        "def gradientDescentMulti(X, y, theta, alpha, num_iters):\n",
        "    m = y.shape[0]        # numero de ejemplos de entrenamiento\n",
        "    theta = theta.copy()  # realiza una copia de theta\n",
        "    J_history = []\n",
        "\n",
        "    for i in range(num_iters):\n",
        "        theta = theta - (alpha / m) * (np.dot(X, theta) - y).dot(X)\n",
        "        J_history.append(computeCostMulti(X, y, theta))\n",
        "\n",
        "    return theta, J_history"
      ],
      "metadata": {
        "id": "Iv-Ed9x7S806"
      },
      "execution_count": 888,
      "outputs": []
    },
    {
      "cell_type": "code",
      "source": [
        "# Elegimos el valor mas adecuado para ALPHA\n",
        "alpha = 0.002\n",
        "num_iters = 4000\n",
        "\n",
        "# Ejecutamos el descenso por el gradiente\n",
        "theta = np.zeros(12)\n",
        "theta, J_history = gradientDescentMulti(X, y, theta, alpha, num_iters)\n",
        "\n",
        "# Grafica la convergencia de los wins\n",
        "pyplot.plot(np.arange(len(J_history)), J_history, lw=2)\n",
        "pyplot.xlabel('Numero de iteraciones')\n",
        "pyplot.ylabel('Victorias')\n",
        "\n",
        "# Muestra los resultados del descenso por el gradiente\n",
        "print('theta calculado por el descenso por el gradiente:: ')\n",
        "print( str(theta))\n",
        "\n",
        "\n",
        "X_array = [1, 221, 498, 91, 68, 15180, 132, 80, 78, 44000, 18, 1983]\n",
        "\n",
        "X_array[1:12] = (X_array[1:12] - mu) / sigma\n",
        "wins = np.dot(X_array, theta)\n",
        "\n",
        "print('\\nEl valor predecido es \"por descenso por el gradiente\":: ', wins)\n",
        "print('\\n')"
      ],
      "metadata": {
        "colab": {
          "base_uri": "https://localhost:8080/",
          "height": 570
        },
        "id": "4kB2GEUMTIj-",
        "outputId": "8b6d8849-4d55-4ba3-869e-12bc155a2202"
      },
      "execution_count": 889,
      "outputs": [
        {
          "output_type": "stream",
          "name": "stdout",
          "text": [
            "theta calculado por el descenso por el gradiente:: \n",
            "[31.88531308  0.63721679  0.80365603  0.27921936  0.308857    0.82823619\n",
            "  0.66427037  1.06336324  0.58292388 -0.13913586  0.19006622  0.59899523]\n",
            "\n",
            "El valor predecido es \"por descenso por el gradiente\"::  24.502574727867902\n",
            "\n",
            "\n"
          ]
        },
        {
          "output_type": "display_data",
          "data": {
            "text/plain": [
              "<Figure size 640x480 with 1 Axes>"
            ],
            "image/png": "[encoded data removed]"
          },
          "metadata": {}
        }
      ]
    },
    {
      "cell_type": "code",
      "source": [
        "#\n",
        "# Ecuacion de la norma\n",
        "#\n",
        "\n",
        "def calcularEcuacionNormal(X, y):\n",
        "  theta = np.zeros(X.shape[1])\n",
        "  theta = np.dot(np.dot(np.linalg.inv(np.dot(X.T,X)),X.T),y)\n",
        "  return theta"
      ],
      "metadata": {
        "id": "QlwiJkDm4_Sk"
      },
      "execution_count": 890,
      "outputs": []
    },
    {
      "cell_type": "code",
      "source": [
        "X_ren = np.concatenate([np.ones((m, 1)), x_normal], axis=1)\n",
        "theta = calcularEcuacionNormal(X_ren, y)"
      ],
      "metadata": {
        "id": "tnGl6Kvt5Axu"
      },
      "execution_count": 891,
      "outputs": []
    },
    {
      "cell_type": "code",
      "source": [
        "X_array = [1, 221, 498, 91, 68, 15180, 132, 80, 78, 44000, 18, 1983]\n",
        "wins = np.dot(X_array, theta)\n",
        "print(f\"Valores de theta son:: \", theta)\n",
        "print('\\n')\n",
        "print('Victorias: usando la ecuación de la normal:: ', wins)"
      ],
      "metadata": {
        "colab": {
          "base_uri": "https://localhost:8080/"
        },
        "id": "FLE4YZMw5GFk",
        "outputId": "b2bdeec4-a94d-4a41-fc92-e89868e2a493"
      },
      "execution_count": 892,
      "outputs": [
        {
          "output_type": "stream",
          "name": "stdout",
          "text": [
            "Valores de theta son::  [ 4.61932422e+00 -6.21184066e-03  3.05967549e-02 -2.52833493e-02\n",
            "  2.08449290e-02  3.37134603e-04  1.54939536e-03  1.68087954e-01\n",
            " -1.05739075e-03 -3.85548790e-04 -1.61372549e-02  4.60845848e-04]\n",
            "\n",
            "\n",
            "Victorias: usando la ecuación de la normal::  19.946385084139266\n"
          ]
        }
      ]
    }
  ]
}